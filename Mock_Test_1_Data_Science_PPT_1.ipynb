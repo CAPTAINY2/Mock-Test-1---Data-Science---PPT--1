{
  "nbformat": 4,
  "nbformat_minor": 0,
  "metadata": {
    "colab": {
      "provenance": [],
      "authorship_tag": "ABX9TyPWpMHgzz1DYtpXSV2mp0h8",
      "include_colab_link": true
    },
    "kernelspec": {
      "name": "python3",
      "display_name": "Python 3"
    },
    "language_info": {
      "name": "python"
    }
  },
  "cells": [
    {
      "cell_type": "markdown",
      "metadata": {
        "id": "view-in-github",
        "colab_type": "text"
      },
      "source": [
        "<a href=\"https://colab.research.google.com/github/CAPTAINY2/Mock-Test-1---Data-Science---PPT--1/blob/main/Mock_Test_1_Data_Science_PPT_1.ipynb\" target=\"_parent\"><img src=\"https://colab.research.google.com/assets/colab-badge.svg\" alt=\"Open In Colab\"/></a>"
      ]
    },
    {
      "cell_type": "markdown",
      "source": [
        "### QUESTION-17"
      ],
      "metadata": {
        "id": "aMT674zwh4H4"
      }
    },
    {
      "cell_type": "code",
      "execution_count": 1,
      "metadata": {
        "colab": {
          "base_uri": "https://localhost:8080/"
        },
        "id": "M_wLBcssczG-",
        "outputId": "f1df7bd8-ba5c-4884-c100-9e96654aef39"
      },
      "outputs": [
        {
          "output_type": "stream",
          "name": "stdout",
          "text": [
            "Output:  [2, 4, 6, 8, 10]\n"
          ]
        }
      ],
      "source": [
        "n = [1, 2, 3, 4, 5, 6, 7, 8, 9, 10]\n",
        "\n",
        "def even(n):\n",
        "    return [num for num in n if num % 2 == 0]\n",
        "\n",
        "print(\"Output: \",even(n) )\n"
      ]
    },
    {
      "cell_type": "markdown",
      "source": [
        "### QUESTION-18"
      ],
      "metadata": {
        "id": "IErNfADMh7_v"
      }
    },
    {
      "cell_type": "code",
      "source": [
        "import time\n",
        "\n",
        "def timer(func):\n",
        "    def wrapper(*args, **kwargs):\n",
        "        start_time = time.time()\n",
        "        result = func(*args, **kwargs)\n",
        "        end_time = time.time()\n",
        "        execution_time = end_time - start_time\n",
        "        print(f\"Execution time: {execution_time:.5f} seconds\")\n",
        "        return result\n",
        "    return wrapper\n",
        "import time\n",
        "\n",
        "@timer\n",
        "def my_function():\n",
        "    time.sleep(2)\n",
        "\n",
        "my_function()\n"
      ],
      "metadata": {
        "colab": {
          "base_uri": "https://localhost:8080/"
        },
        "id": "MYyeX_v4d0qh",
        "outputId": "db48f851-9475-4a03-c322-6ec155c19469"
      },
      "execution_count": 2,
      "outputs": [
        {
          "output_type": "stream",
          "name": "stdout",
          "text": [
            "Execution time: 2.00205 seconds\n"
          ]
        }
      ]
    },
    {
      "cell_type": "markdown",
      "source": [
        "### QUESTION-19"
      ],
      "metadata": {
        "id": "5fAR12g-h-FR"
      }
    },
    {
      "cell_type": "code",
      "source": [
        "data = [10, 15, 20, 25, 30]\n",
        "\n",
        "def mean(numbers):\n",
        "    total = sum(numbers)\n",
        "    count = len(numbers)\n",
        "    mean = total / count\n",
        "    return mean\n",
        "\n",
        "print(\"Mean:\", mean(data))\n"
      ],
      "metadata": {
        "colab": {
          "base_uri": "https://localhost:8080/"
        },
        "id": "oIsMeHj6fYbK",
        "outputId": "6fb461f1-3140-4136-c4e4-3ad620533a78"
      },
      "execution_count": 3,
      "outputs": [
        {
          "output_type": "stream",
          "name": "stdout",
          "text": [
            "Mean: 20.0\n"
          ]
        }
      ]
    },
    {
      "cell_type": "markdown",
      "source": [
        "### QUESTION-20"
      ],
      "metadata": {
        "id": "I1LPhyJxh_tJ"
      }
    },
    {
      "cell_type": "code",
      "source": [
        "sample1 = [5, 10, 15, 20, 25]\n",
        "sample2 = [10, 20, 30, 40, 50]\n",
        "\n",
        "from scipy import stats\n",
        "\n",
        "def test(sample1, sample2):\n",
        "    t_statistic, p_value = stats.ttest_ind(sample1, sample2)\n",
        "    return p_value\n",
        "\n",
        "print(\"p_value: \", test(sample1, sample2))"
      ],
      "metadata": {
        "colab": {
          "base_uri": "https://localhost:8080/"
        },
        "id": "ZwSwBfA1gCY1",
        "outputId": "a980853a-2b50-44f8-833c-7e7949883a7e"
      },
      "execution_count": 14,
      "outputs": [
        {
          "output_type": "stream",
          "name": "stdout",
          "text": [
            "p_value:  0.09434977284243756\n"
          ]
        }
      ]
    },
    {
      "cell_type": "code",
      "source": [],
      "metadata": {
        "id": "XkAFcqB2hu7t"
      },
      "execution_count": null,
      "outputs": []
    }
  ]
}